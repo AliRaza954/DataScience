{
 "cells": [
  {
   "cell_type": "markdown",
   "metadata": {},
   "source": [
    "# Assignment no. 1"
   ]
  },
  {
   "cell_type": "code",
   "execution_count": 68,
   "metadata": {},
   "outputs": [],
   "source": [
    "complex_years = [\"c.1947\", \"1985's\", \"(2000)\", \" \", \"-1949\", \"1898-1923\", \"-1963\",\"-1922\",\n",
    "               \"1947-1952\"]"
   ]
  },
  {
   "cell_type": "code",
   "execution_count": 69,
   "metadata": {},
   "outputs": [],
   "source": [
    "BadData = [\"c\", \".\", \"'\", \"s\", \"(\", \")\", \" \"]"
   ]
  },
  {
   "cell_type": "code",
   "execution_count": 70,
   "metadata": {},
   "outputs": [],
   "source": [
    "cleanYears = []"
   ]
  },
  {
   "cell_type": "code",
   "execution_count": 77,
   "metadata": {},
   "outputs": [
    {
     "ename": "TypeError",
     "evalue": "object of type 'int' has no len()",
     "output_type": "error",
     "traceback": [
      "\u001b[1;31m---------------------------------------------------------------------------\u001b[0m",
      "\u001b[1;31mTypeError\u001b[0m                                 Traceback (most recent call last)",
      "\u001b[1;32m<ipython-input-77-341f3d377718>\u001b[0m in \u001b[0;36m<module>\u001b[1;34m\u001b[0m\n\u001b[0;32m      7\u001b[0m         \u001b[0myears\u001b[0m \u001b[1;33m=\u001b[0m \u001b[0myears\u001b[0m\u001b[1;33m.\u001b[0m\u001b[0msplit\u001b[0m\u001b[1;33m(\u001b[0m\u001b[1;34m\"-\"\u001b[0m\u001b[1;33m)\u001b[0m\u001b[1;33m\u001b[0m\u001b[1;33m\u001b[0m\u001b[0m\n\u001b[0;32m      8\u001b[0m     \u001b[1;32mfor\u001b[0m \u001b[0my\u001b[0m \u001b[1;32min\u001b[0m \u001b[0myears\u001b[0m\u001b[1;33m:\u001b[0m\u001b[1;33m\u001b[0m\u001b[1;33m\u001b[0m\u001b[0m\n\u001b[1;32m----> 9\u001b[1;33m         \u001b[0mavg\u001b[0m \u001b[1;33m=\u001b[0m \u001b[0mint\u001b[0m\u001b[1;33m(\u001b[0m\u001b[0mlen\u001b[0m\u001b[1;33m(\u001b[0m\u001b[0myears\u001b[0m\u001b[1;33m)\u001b[0m\u001b[1;33m)\u001b[0m\u001b[1;33m\u001b[0m\u001b[1;33m\u001b[0m\u001b[0m\n\u001b[0m\u001b[0;32m     10\u001b[0m         \u001b[0msum\u001b[0m \u001b[1;33m+=\u001b[0m \u001b[0mint\u001b[0m\u001b[1;33m(\u001b[0m\u001b[0my\u001b[0m\u001b[1;33m)\u001b[0m\u001b[1;33m\u001b[0m\u001b[1;33m\u001b[0m\u001b[0m\n\u001b[0;32m     11\u001b[0m         \u001b[0myears\u001b[0m \u001b[1;33m=\u001b[0m \u001b[0mint\u001b[0m \u001b[1;33m(\u001b[0m\u001b[0msum\u001b[0m \u001b[1;33m/\u001b[0m \u001b[0mavg\u001b[0m\u001b[1;33m)\u001b[0m\u001b[1;33m\u001b[0m\u001b[1;33m\u001b[0m\u001b[0m\n",
      "\u001b[1;31mTypeError\u001b[0m: object of type 'int' has no len()"
     ]
    }
   ],
   "source": [
    "for years in complex_years:\n",
    "    for data in BadData:\n",
    "        years = years.replace(data,\"\")\n",
    "        if years.startswith(\"-\"):\n",
    "            years = years.replace(\"-\",\"\")\n",
    "    if \"-\" in years:\n",
    "        years = years.split(\"-\")\n",
    "    for y in years:\n",
    "        avg = int(len(years))\n",
    "        sum += int(y)\n",
    "        years = int (sum / avg)\n",
    "        \n",
    "    if years != \"\":\n",
    "        years = int(years)\n",
    "        cleanYears.append(years)\n",
    "print(cleanYears)"
   ]
  },
  {
   "cell_type": "code",
   "execution_count": null,
   "metadata": {},
   "outputs": [],
   "source": []
  },
  {
   "cell_type": "markdown",
   "metadata": {},
   "source": [
    "# Assignment no. 2"
   ]
  },
  {
   "cell_type": "code",
   "execution_count": 73,
   "metadata": {},
   "outputs": [],
   "source": [
    "dtime = [\"2020-12-1 9:30\", \"2020/12/2 9:30\", \"(2020,12,3,9:30)\"]"
   ]
  },
  {
   "cell_type": "markdown",
   "metadata": {},
   "source": [
    "datetime documentation\n",
    "\n",
    "%d Day of the month as a zero-padded number 04\n",
    "%A Day of the week as a word Monday\n",
    "%m Month as a zero-padded number 09\n",
    "%Y Year as a four-digit number 1901\n",
    "%y Year as a two-digit number with zero-padding 01 (2001) 88 (1988)\n",
    "%B Month as a word September\n",
    "%H Hour in 24 hour time as zero-padded number 05 (5 a.m.) 15 (3 p.m.)\n",
    "%p a.m. or p.m.2 AM\n",
    "%I Hour in 12 hour time as zero-padded number 05 (5 a.m., or 5 p.m. if AM/PM indicates otherwise)\n",
    "%M Minute as a zero-padded number 07"
   ]
  },
  {
   "cell_type": "code",
   "execution_count": 93,
   "metadata": {},
   "outputs": [
    {
     "name": "stdout",
     "output_type": "stream",
     "text": [
      "['2020/12/1 9:30', '2020/12/2 9:30', '2020/12/3 9:30']\n"
     ]
    }
   ],
   "source": [
    "clean_datetime = []\n",
    "\n",
    "for time in dtime:\n",
    "    if \"-\" in time:\n",
    "        time = time.replace(\"-\", \"/\")\n",
    "    if \",\" in time:\n",
    "        time = time.replace(\",\", \"/\", 2)\n",
    "        time = time.replace(\",\", \" \")\n",
    "    #if \"(\" | \")\" in time:\n",
    "     #   time = time.replace(\"(\", \"\")\n",
    "      #  time = time.replace(\")\", \"\")\n",
    "    if \"(\" in time:\n",
    "        time = time.replace(\"(\", \"\")\n",
    "    if \")\" in time:\n",
    "        time = time.replace(\")\", \"\")\n",
    "    #if \" \" in time:\n",
    "     #   time = time.replace(\" \", \"\")\n",
    "    clean_datetime.append(time)\n",
    "print(clean_datetime)"
   ]
  },
  {
   "cell_type": "code",
   "execution_count": 101,
   "metadata": {},
   "outputs": [
    {
     "name": "stdout",
     "output_type": "stream",
     "text": [
      "['Tuesday', 'Wednesday', 'Thursday']\n",
      "[datetime.datetime(2020, 12, 1, 9, 30), datetime.datetime(2020, 12, 2, 9, 30), datetime.datetime(2020, 12, 3, 9, 30)]\n"
     ]
    }
   ],
   "source": [
    "import datetime as dt\n",
    "\n",
    "accurate_format = []\n",
    "days_in_words = []\n",
    "\n",
    "for data in clean_datetime:\n",
    "    var1 = data\n",
    "    frmt = frmt = \"%Y/%m/%d %I:%M\"\n",
    "    var2 = dt.datetime.strptime(var1,frmt)\n",
    "    accurate_format.append(var2.strftime(\"%A\"))\n",
    "    days_in_words.append(var2)\n",
    "\n",
    "print(accurate_format)\n",
    "print(days_in_words)"
   ]
  },
  {
   "cell_type": "code",
   "execution_count": null,
   "metadata": {},
   "outputs": [],
   "source": []
  }
 ],
 "metadata": {
  "kernelspec": {
   "display_name": "Python 3",
   "language": "python",
   "name": "python3"
  },
  "language_info": {
   "codemirror_mode": {
    "name": "ipython",
    "version": 3
   },
   "file_extension": ".py",
   "mimetype": "text/x-python",
   "name": "python",
   "nbconvert_exporter": "python",
   "pygments_lexer": "ipython3",
   "version": "3.8.3"
  }
 },
 "nbformat": 4,
 "nbformat_minor": 4
}
